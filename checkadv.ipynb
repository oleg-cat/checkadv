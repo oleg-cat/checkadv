{
 "nbformat": 4,
 "nbformat_minor": 5,
 "metadata": {
  "kernelspec": {
   "display_name": "Python 3 (ipykernel)",
   "language": "python",
   "name": "python3"
  },
  "language_info": {
   "codemirror_mode": {
    "name": "ipython",
    "version": 3
   },
   "file_extension": ".py",
   "mimetype": "text/x-python",
   "name": "python",
   "nbconvert_exporter": "python",
   "pygments_lexer": "ipython3",
   "version": "3.8.11"
  },
  "colab": {
   "name": "Editing apps4adv.ipynb",
   "provenance": []
  }
 },
 "cells": [
  {
   "cell_type": "markdown",
   "metadata": {
    "id": "2f7f7222"
   },
   "source": [
    "# Apps: Webpage + Text Classification\n",
    "\n",
    "In this example we aim to explore webpages and their descriptions. We will run the project using new Toloka Ready-to-go solutions (App Services)."
   ],
   "id": "2f7f7222"
  },
  {
   "cell_type": "markdown",
   "metadata": {
    "id": "a260c945"
   },
   "source": [
    "### Challenge\n",
    "\n",
    "We picked the dataset from Yandex.Direct as an example. It is XLSX file (in attachments) which contains information about advertising campaigns.\n",
    "\n",
    "\n",
    "### Context\n",
    "\n",
    "Advertising campaigns usually consist of several thousands of ads that are linked to many web pages. Web pages may change in time and become irrelevant for the ads. If a web page does not match the ad snippet, conversion from click-to-order drops dramatically and, therefore, ad budgets are wasted.\n",
    "\n",
    "\n",
    "### Description\n",
    "\n",
    "With this project we aim to check that web pages are relevant to ads that are linked to it. We will use new App projects (Ready-to-go solutions) feature of Toloka."
   ],
   "id": "a260c945"
  },
  {
   "cell_type": "markdown",
   "metadata": {
    "id": "c889eb4e"
   },
   "source": [
    "### Set up the environment\n",
    "\n",
    "First, you'll need to register in Toloka as a requester. Learn more about this step in the [documentation](https://toloka.ai/docs/guide/concepts/access.html).\n",
    "\n",
    "\n",
    "The second step is to obtain your [OAuth token](https://toloka.ai/docs/api/concepts/access.html#access__token).\n",
    "A detailed description of these actions can be found in the example [learn the basics](https://colab.research.google.com/github/Toloka/toloka-kit/blob/main/examples/0.getting_started/0.learn_the_basics/learn_the_basics.ipynb).\n",
    "\n",
    "To access the file with a dataset from the code, save the XLSX file to the same directory as this notebook. In this example file is called 'direct_example.xlsx'\n"
   ],
   "id": "c889eb4e"
  },
  {
   "cell_type": "code",
   "metadata": {
    "id": "e414c233"
   },
   "source": [
    "import os\n",
    "import random\n",
    "\n",
    "import datetime\n",
    "import time\n",
    "\n",
    "import pandas as pd\n",
    "\n",
    "from ipywidgets import widgets\n",
    "from IPython.display import display, clear_output"
   ],
   "id": "e414c233",
   "execution_count": null,
   "outputs": []
  },
  {
   "cell_type": "code",
   "metadata": {
    "id": "e9e259c4"
   },
   "source": [
    "!pip install toloka-kit==0.1.23 #--upgrade\n",
    "clear_output()\n",
    "print('Packages are installed!')"
   ],
   "id": "e9e259c4",
   "execution_count": null,
   "outputs": []
  },
  {
   "cell_type": "code",
   "metadata": {
    "id": "7de79886"
   },
   "source": [
    "import toloka.client as toloka"
   ],
   "id": "7de79886",
   "execution_count": null,
   "outputs": []
  },
  {
   "cell_type": "markdown",
   "metadata": {
    "id": "322f4006"
   },
   "source": [
    "### App project settings\n",
    "\n",
    "It's time to think about initial project settings, instructions, and examples for performers."
   ],
   "id": "322f4006"
  },
  {
   "cell_type": "code",
   "metadata": {
    "id": "d425ccda"
   },
   "source": [
    "# App name\n",
    "app_name = 'Webpage + Text Classification'\n",
    "\n",
    "# App project settings\n",
    "project_name = 'Does the ad snippet match the webpage?'\n",
    "project_parameters={\n",
    "'name': project_name,\n",
    "'option_other': False, # Option disabled. Assume there are NO pairs of text + webpage that don't apply to any class\n",
    "'option_multiple_choice': False, # Option disabled. Assume there are NO pairs of text + webpage that can apply to multiple classes\n",
    "'default_language': 'en', # Choose the language of the content you’ll be using in the application. Possible values: en/ru\n",
    "'instruction_intro': '''You will see an ad and a link to the webpage that represents the ad.\n",
    "Read the ad carefully and then follow the link – study the webpage carefully.\n",
    "Answer the question: Does the ad snippet match the webpage?''', # Set the instruction. What performers need to do?\n",
    "'instruction_question': 'Does the ad snippet match the webpage?',\n",
    "'instruction_classes':\n",
    "[# Add at least two classes, and describe each one\n",
    "{'label': 'Matches', 'value': 'OK', 'description': 'The ad text is appropriate and relevant to the webpage. Meaning of the ad and main idea of the webpage are similar, the words can converge.'},\n",
    "{'label': 'Does not match', 'value': 'BAD', 'description': 'The ad text does not match the webpage. Meaning of the ad and main idea of the webpage are not similar at all. Ad is clearly about something different.'}\n",
    "],\n",
    "'instruction_examples': [\n",
    "# Example 1\n",
    "{'text': 'Yandex.Direct — contextual ads on Yandex', 'label': 'Matches', 'description': 'The ad is about the website for placing contextual advertising. Link goes to the website for placing the ads. Answer should be \"Matches\"', 'website_url': 'https://direct.yandex.com/'},\n",
    "# Example 2\n",
    "{'text': 'Auto.ru: buy, sell, and trade your auto', 'label': 'Matches', 'description': 'The ad is about a web service where you can buy, sell and exchange a car. Link goes to a service where you can do all these. Answer should be \"Matches\"', 'website_url': 'https://auto.ru/'},\n",
    "# Example 3\n",
    "{'text': 'Yandex.Services — find services and specialists of your need', 'label': 'Does not match', 'description': 'The ad is about a service. Link goes to a catalog with Porsche cars. Answer should be \"Does not match\"', 'website_url': 'https://auto.ru/moskva/cars/porsche/new/'},\n",
    "# Example 4\n",
    "{'text': 'Buy new Porsche auto', 'label': 'Does not match', 'description': 'The ad is about new Porsche cars. Link goes to Toyota cars with mileage. Answer should be \"Does not match\"', 'website_url': 'https://auto.ru/moskva/cars/toyota/used/'}\n",
    "]\n",
    "}\n"
   ],
   "id": "d425ccda",
   "execution_count": null,
   "outputs": []
  },
  {
   "cell_type": "markdown",
   "metadata": {
    "id": "aacb03a9"
   },
   "source": [
    "### Download the file with information about ads\n",
    "\n",
    "For this example we will use small dataset with different variants of add description leading to a single page."
   ],
   "id": "aacb03a9"
  },
  {
   "cell_type": "code",
   "metadata": {
    "id": "46502395"
   },
   "source": [
    "!curl https://tlk.s3.yandex.net/dataset/direct_example.csv --output direct_example.csv\n",
    "\n",
    "df_direct = pd.read_csv('direct_example.csv')\n",
    "df_direct = df_direct.sample(frac=1).reset_index(drop=True)"
   ],
   "id": "46502395",
   "execution_count": null,
   "outputs": []
  },
  {
   "cell_type": "markdown",
   "source": [
    "### Connect to Toloka\n",
    "\n",
    "Create an instance and check your account."
   ],
   "metadata": {
    "id": "USKNQmlkQc9Q"
   },
   "id": "USKNQmlkQc9Q"
  },
  {
   "cell_type": "code",
   "metadata": {
    "id": "a551d095"
   },
   "source": [
    "# Create a Toloka client instance\n",
    "# All API calls will pass through it\n",
    "toloka_client = toloka.TolokaClient(input(\"Enter your token:\"), 'PRODUCTION')  # or switch to SANDBOX\n",
    "\n",
    "# Check the money available on your account, and also the validity of your OAuth token\n",
    "requester = toloka_client.get_requester()\n",
    "print('You have enough money on your account - ', requester.balance > 3.0)"
   ],
   "id": "a551d095",
   "execution_count": null,
   "outputs": []
  },
  {
   "cell_type": "markdown",
   "metadata": {
    "id": "325b1005"
   },
   "source": [
    "### Run the App project\n",
    "\n",
    "Set up several objects related to your project: AppProject and AppBatch."
   ],
   "id": "325b1005"
  },
  {
   "cell_type": "code",
   "metadata": {
    "id": "01191d32"
   },
   "source": [
    "# Getting Webpage + Text Classification App (Ready-to-go solution)\n",
    "wtc_app = next(app for app in toloka_client.get_apps() if app.name == app_name)\n",
    "app_id = wtc_app.id"
   ],
   "id": "01191d32",
   "execution_count": null,
   "outputs": []
  },
  {
   "cell_type": "code",
   "metadata": {
    "id": "d02340bb"
   },
   "source": [
    "# Create an App project\n",
    "wtc_project_obj = toloka.app.AppProject(\n",
    "    app_id=app_id,\n",
    "    name=project_name,\n",
    "    parameters=project_parameters\n",
    ")\n",
    "\n",
    "wtc_project = toloka_client.create_app_project(wtc_project_obj)"
   ],
   "id": "d02340bb",
   "execution_count": null,
   "outputs": []
  },
  {
   "cell_type": "code",
   "metadata": {
    "id": "d3472093"
   },
   "source": [
    "# Wait until the moderation of project is completed\n",
    "def wait_project_moderation(project):\n",
    "    sleep_time = 30\n",
    "    while project.status.value == 'CREATING':\n",
    "        project = toloka_client.get_app_project(project.id)\n",
    "        print(\n",
    "            f'{datetime.datetime.now().strftime(\"%H:%M:%S\")} '\n",
    "            f'Project {project.name} has status {project.status.value}.'\n",
    "        )\n",
    "        time.sleep(sleep_time)\n",
    "    print(project.status.value)\n",
    "wait_project_moderation(wtc_project)"
   ],
   "id": "d3472093",
   "execution_count": null,
   "outputs": []
  },
  {
   "cell_type": "markdown",
   "source": [
    "### Add your data\n",
    "\n",
    "Data will be located in batches."
   ],
   "metadata": {
    "id": "wvrtqAc8RQdc"
   },
   "id": "wvrtqAc8RQdc"
  },
  {
   "cell_type": "code",
   "metadata": {
    "id": "6026ffe3"
   },
   "source": [
    "# Create a batch\n",
    "wtc_batch_obj = toloka.app.AppBatch(name=app_name+str(random.randint(1,100)))\n",
    "wtc_batch = toloka_client.create_app_batch(app_project_id=wtc_project.id,\n",
    "                             request = wtc_batch_obj)"
   ],
   "id": "6026ffe3",
   "execution_count": null,
   "outputs": []
  },
  {
   "cell_type": "code",
   "execution_count": null,
   "outputs": [],
   "source": [
    "# Add tasks to batch\n",
    "for ind, row in df_direct.iterrows():\n",
    "    wtc_item_obj = toloka.app.AppItem(batch_id=wtc_batch.id,\n",
    "                   input_data={'id': str(row['Ad ID']),\n",
    "                               'text': row['Ad Text'],\n",
    "                               'website_url': row['Link']}\n",
    "                        )\n",
    "    toloka_client.create_app_item(app_project_id=wtc_project.id,\n",
    "                          app_item = wtc_item_obj)"
   ],
   "metadata": {
    "collapsed": false,
    "pycharm": {
     "name": "#%%\n"
    }
   }
  },
  {
   "cell_type": "code",
   "metadata": {
    "id": "7c2ece04"
   },
   "source": [
    "# Start data labeling\n",
    "toloka_client.start_app_batch(app_project_id = wtc_project.id,\n",
    "                              app_batch_id = wtc_batch.id)\n",
    "print(\"Labeling started. Please, wait...\")"
   ],
   "id": "7c2ece04",
   "execution_count": null,
   "outputs": []
  },
  {
   "cell_type": "code",
   "metadata": {
    "id": "baa776c9"
   },
   "source": [
    "# Wait for batch\n",
    "def wait_batch_for_close(batch):\n",
    "    sleep_time = 60\n",
    "    while batch.status.value in ['PROCESSING', 'NEW']:\n",
    "        batch = toloka_client.get_app_batch(wtc_project.id, batch.id)\n",
    "        print(\n",
    "            f'{datetime.datetime.now().strftime(\"%H:%M:%S\")} '\n",
    "            f'Batch {batch.name} has status {batch.status.value}.'\n",
    "        )\n",
    "        time.sleep(sleep_time)\n",
    "    print(batch.status.value)\n",
    "\n",
    "wait_batch_for_close(wtc_batch)"
   ],
   "id": "baa776c9",
   "execution_count": null,
   "outputs": []
  },
  {
   "cell_type": "markdown",
   "source": [
    "### Get your results\n",
    "\n",
    "Get results in data frame"
   ],
   "metadata": {
    "id": "TN5wQ_q8RiBx"
   },
   "id": "TN5wQ_q8RiBx"
  },
  {
   "cell_type": "code",
   "metadata": {
    "id": "99e62b47"
   },
   "source": [
    "result_df = pd.DataFrame()\n",
    "for item in toloka_client.get_app_items(app_project_id=wtc_project.id):\n",
    "    result_df = result_df.append(pd.json_normalize(item.output_data), ignore_index=True)"
   ],
   "id": "99e62b47",
   "execution_count": null,
   "outputs": []
  },
  {
   "cell_type": "code",
   "execution_count": 68,
   "outputs": [
    {
     "data": {
      "text/plain": "                                                 text result  \\\n24  Over 6000 games available on Yandex.Games. No ...   [OK]   \n36  Over 6000 games available on Yandex.Games. No ...   [OK]   \n2   Over 6000 games available on Yandex.Games. No ...   [OK]   \n20  Over 6000 games available on Yandex.Games. No ...   [OK]   \n3   Over 6000 games available on Yandex.Games. No ...   [OK]   \n\n           confidence                                        website_url  \n24  0.984802520945325  https://yandex.com/games/?utm_medium=rsya&utm_...  \n36  0.984802520945325  https://yandex.com/games/?utm_medium=rsya&utm_...  \n2   0.984802520945325  https://yandex.com/games/?utm_medium=rsya&utm_...  \n20  0.984802520945325  https://yandex.com/games/?utm_medium=rsya&utm_...  \n3   0.984802520945325  https://yandex.com/games/?utm_medium=rsya&utm_...  ",
      "text/html": "<div>\n<style scoped>\n    .dataframe tbody tr th:only-of-type {\n        vertical-align: middle;\n    }\n\n    .dataframe tbody tr th {\n        vertical-align: top;\n    }\n\n    .dataframe thead th {\n        text-align: right;\n    }\n</style>\n<table border=\"1\" class=\"dataframe\">\n  <thead>\n    <tr style=\"text-align: right;\">\n      <th></th>\n      <th>text</th>\n      <th>result</th>\n      <th>confidence</th>\n      <th>website_url</th>\n    </tr>\n  </thead>\n  <tbody>\n    <tr>\n      <th>24</th>\n      <td>Over 6000 games available on Yandex.Games. No ...</td>\n      <td>[OK]</td>\n      <td>0.984802520945325</td>\n      <td>https://yandex.com/games/?utm_medium=rsya&amp;utm_...</td>\n    </tr>\n    <tr>\n      <th>36</th>\n      <td>Over 6000 games available on Yandex.Games. No ...</td>\n      <td>[OK]</td>\n      <td>0.984802520945325</td>\n      <td>https://yandex.com/games/?utm_medium=rsya&amp;utm_...</td>\n    </tr>\n    <tr>\n      <th>2</th>\n      <td>Over 6000 games available on Yandex.Games. No ...</td>\n      <td>[OK]</td>\n      <td>0.984802520945325</td>\n      <td>https://yandex.com/games/?utm_medium=rsya&amp;utm_...</td>\n    </tr>\n    <tr>\n      <th>20</th>\n      <td>Over 6000 games available on Yandex.Games. No ...</td>\n      <td>[OK]</td>\n      <td>0.984802520945325</td>\n      <td>https://yandex.com/games/?utm_medium=rsya&amp;utm_...</td>\n    </tr>\n    <tr>\n      <th>3</th>\n      <td>Over 6000 games available on Yandex.Games. No ...</td>\n      <td>[OK]</td>\n      <td>0.984802520945325</td>\n      <td>https://yandex.com/games/?utm_medium=rsya&amp;utm_...</td>\n    </tr>\n  </tbody>\n</table>\n</div>"
     },
     "execution_count": 68,
     "metadata": {},
     "output_type": "execute_result"
    }
   ],
   "source": [
    "result_df.sample(5)"
   ],
   "metadata": {
    "collapsed": false,
    "pycharm": {
     "name": "#%%\n"
    }
   }
  },
  {
   "cell_type": "markdown",
   "source": [
    "### Summary\n",
    "\n",
    "In this project, we built up a fast and automated labeling pipeline using new Toloka features – Ready-to-go solutions (or simply Apps)."
   ],
   "metadata": {
    "id": "pSKxqYhsSOZE"
   },
   "id": "pSKxqYhsSOZE"
  }
 ]
}