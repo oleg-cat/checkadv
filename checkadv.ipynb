{
 "cells": [
  {
   "cell_type": "markdown",
   "id": "2f7f7222",
   "metadata": {},
   "source": [
    "# Apps Classification link + text\n",
    "This example will explain how web pages are classified and described "
   ]
  },
  {
   "cell_type": "markdown",
   "id": "a260c945",
   "metadata": {},
   "source": [
    "### Task\n",
    "An XLSX file for managing Yandex.Direct ad campaigns (https://direct.yandex.ru/public/direct_example.xlsx?cmd=exportSampleCamp&amp;new_format=1) was selected as a dataset for link + text classification\n",
    "\n",
    "### Inspiration\n",
    "Ad campaigns managed through XLSX files usually consist of many, possibly several thousand, ads, leading to many web pages, which can change and no longer match the ads. If a web page does not match an ad's snippet, conversion from conversion to bid is greatly reduced, and <b>advertising budgets are not effectively spent</b>.\n",
    "\n",
    "### Description\n",
    "To solve this problem we will use Apps. In Apps we will check if the ad's snippet matches the web page to which the ad is linked."
   ]
  },
  {
   "cell_type": "markdown",
   "id": "c889eb4e",
   "metadata": {},
   "source": [
    "### Setting up the environment\n",
    "First of all, you need to register with Tolok as a customer. Find out more at https://yandex.ru/support/toloka-requester/concepts/access.html\n",
    "\n",
    "The second step is to get your OAuth token https://doc.yandex-team.ru/toloka/doc/concepts/access.html?lang=ru\n",
    "\n",
    "To check the file, save the XLSX file for managing your Yandex.Direct ad campaigns in the example it is called 'direct_example.xlsx' in the folder with this notepad and is an example https://direct.yandex.ru/public/direct_example.xlsx"
   ]
  },
  {
   "cell_type": "code",
   "execution_count": null,
   "id": "e414c233",
   "metadata": {},
   "outputs": [],
   "source": [
    "import os\n",
    "import random\n",
    "import shutil\n",
    "import csv\n",
    "\n",
    "import datetime\n",
    "import time\n",
    "\n",
    "import pandas as pd\n",
    "import json\n",
    "\n",
    "import logging\n",
    "\n",
    "from ipywidgets import widgets\n",
    "from IPython.display import display, clear_output"
   ]
  },
  {
   "cell_type": "code",
   "execution_count": null,
   "id": "e9e259c4",
   "metadata": {},
   "outputs": [],
   "source": [
    "!pip install toloka-kit==0.1.9 #--upgrade\n",
    "clear_output()\n",
    "print('Packages is installed!')"
   ]
  },
  {
   "cell_type": "code",
   "execution_count": null,
   "id": "7de79886",
   "metadata": {},
   "outputs": [],
   "source": [
    "import ipyplot\n",
    "import toloka.client as toloka"
   ]
  },
  {
   "cell_type": "markdown",
   "id": "322f4006",
   "metadata": {},
   "source": [
    "### Settings"
   ]
  },
  {
   "cell_type": "code",
   "execution_count": 1,
   "id": "d425ccda",
   "metadata": {},
   "outputs": [],
   "source": [
    "#toloka settings\n",
    "token = ''\n",
    "\n",
    "#app name\n",
    "app_name = 'Webpage + Text Classification'\n",
    "\n",
    "#toloka text setting\n",
    "project_name = 'Does the advertising snippet match the website link?' #project title\n",
    "project_parameters={\n",
    "'name': project_name, \n",
    "'option_other': False, #Are there pairs of text and a webpage that might not apply to any class?\n",
    "'default_language': 'en', #Choose the language of the content you’ll be using in the application en/ru\n",
    "'instruction_intro': 'You will be shown an advertisement and a link to the page of the website the advertisement advertises. Read the advertisement carefully and follow the link and study the site carefully. Answer the question does the ad match the page?', #What do performers need to do?\n",
    "'instruction_classes': \n",
    "[#Add at least two classes and describe each one\n",
    "{'label': 'Relevant', \n",
    " 'value': 'OK', \n",
    " 'description': 'The text of the ad is appropriate and relevant to the website. The meaning of the ad and the meaning of the website are similar, the words may converge.'}, \n",
    "{'label': 'Doesnt match', \n",
    " 'value': 'BAD', \n",
    " 'description': 'The text of the ad does not match and is not relevant to the site. The meaning of the ad and the meaning of the website are not at all similar, the ad is clearly about something other than the website in the link'}\n",
    "], \n",
    "'instruction_examples': [\n",
    "#Example 1\n",
    "{'text': 'Yandex.Direct - contextual advertising on Yandex', \n",
    " 'label': 'Match', \n",
    " 'description': 'The ad refers to a contextual advertising site, the link refers to a contextual advertising site and the verdict is \"Relevant\".', \n",
    " 'website_url': 'https://direct.yandex.ru/'}, \n",
    "#Example 2\n",
    "{'text': 'Auto.ru: buy, sell and exchange cars', \n",
    " 'label': 'Match', \n",
    " 'description': 'The ad advert advertises a service where you can buy, sell and exchange cars, the link is to a service where you can do this, the verdict should be \"Relevant\"', \n",
    " 'website_url': 'https://auto.ru/'}, \n",
    "#Example 3\n",
    "{'text': 'Yandex.Services - search for services and specialists', \n",
    " 'label': 'Doesnt match', \n",
    " 'description': 'The ad advert advertises a service, the link links to a catalogue with Porsche cars, the verdict should be \"Doesnt match\"', \n",
    " 'website_url': 'https://auto.ru/moskva/cars/porsche/new/'}, \n",
    "#Example 4\n",
    "{'text': 'Buy a new Porsche', \n",
    " 'label': 'Doesnt match', \n",
    " 'description': 'The ad is talking about new Porsche cars, the link is talking about used Toyota cars, the verdict should be \"Doesnt match\"', \n",
    " 'website_url': 'https://auto.ru/moskva/cars/toyota/used/'}\n",
    "], \n",
    "'instruction_question': 'Is the ad relevant to the page?', \n",
    "'option_multiple_choice': False #Are there pairs of text and a webpage that could apply to multiple classes?\n",
    "}\n",
    "\n",
    "#advertising XLSX file\n",
    "adv_file = \"direct_example.xlsx\""
   ]
  },
  {
   "cell_type": "markdown",
   "id": "aacb03a9",
   "metadata": {},
   "source": [
    "### Uploading the Yandex.Direct feed file"
   ]
  },
  {
   "cell_type": "code",
   "execution_count": null,
   "id": "46502395",
   "metadata": {},
   "outputs": [],
   "source": [
    "if not os.path.exists(\"./\"+adv_file):\n",
    "    os.system(\"curl -H 'Accept-Language: en-US,en;q=0.9,it;q=0.8' -d 'cmd=exportSampleCamp&lang=en&new_format=1' https://direct.yandex.net/public/direct_example.xlsx --output direct_example.xlsx\")"
   ]
  },
  {
   "cell_type": "markdown",
   "id": "334415b6",
   "metadata": {},
   "source": [
    "### Receiving advertisements"
   ]
  },
  {
   "cell_type": "code",
   "execution_count": null,
   "id": "9398485b",
   "metadata": {},
   "outputs": [],
   "source": [
    "pd_direct = pd.read_excel(adv_file, sheet_name='Texts', header=9)\n",
    "pd_direct.sample(3)"
   ]
  },
  {
   "cell_type": "code",
   "execution_count": null,
   "id": "92c8b562",
   "metadata": {},
   "outputs": [],
   "source": [
    "pd_direct = pd_direct.loc[pd_direct[\"Title 1\"].notnull()]\n",
    "pd_direct[\"text\"]=pd_direct[\"Title 1\"] + \" | \" + pd_direct[\"Title 2\"] + \" | \" +  pd_direct[\"Ad Text\"] \n",
    "col=['Ad ID','text','Link']\n",
    "df_direct = pd_direct[col]\n",
    "df_direct.sample(3)"
   ]
  },
  {
   "cell_type": "code",
   "execution_count": null,
   "id": "a551d095",
   "metadata": {},
   "outputs": [],
   "source": [
    "# Create a Toloka client instance\n",
    "# All API calls will pass through it\n",
    "toloka_client = toloka.TolokaClient(token, 'PRODUCTION')  # or switch to SANDBOX or PRODUCTION\n",
    "\n",
    "# We check account, which also checks the validity of the OAuth token\n",
    "logging.info(toloka_client.get_requester())"
   ]
  },
  {
   "cell_type": "markdown",
   "id": "325b1005",
   "metadata": {},
   "source": [
    "### Launching a project"
   ]
  },
  {
   "cell_type": "code",
   "execution_count": null,
   "id": "01191d32",
   "metadata": {},
   "outputs": [],
   "source": [
    "#looking apps\n",
    "app_id = ''\n",
    "wtc_app = toloka_client.get_apps(name_lte=app_name, name_gte=app_name)\n",
    "if len(list(wtc_app))==1:\n",
    "    app_id = next(wtc_app).id\n",
    "else:\n",
    "    print(\"This apps does not exist\")"
   ]
  },
  {
   "cell_type": "code",
   "execution_count": null,
   "id": "d02340bb",
   "metadata": {},
   "outputs": [],
   "source": [
    "#create project\n",
    "wtc_project_obj = toloka.app.AppProject(\n",
    "    app_id = app_id,\n",
    "    name = project_name, \n",
    "    parameters= project_parameters)\n",
    "\n",
    "wtc_project = toloka_client.create_app_project(wtc_project_obj)"
   ]
  },
  {
   "cell_type": "code",
   "execution_count": null,
   "id": "d3472093",
   "metadata": {},
   "outputs": [],
   "source": [
    "#wait project moderation\n",
    "def wait_project_moderation(project):\n",
    "    sleep_time = 30\n",
    "    while project.status.value == 'CREATING':\n",
    "        print(\n",
    "            f'{datetime.datetime.now().strftime(\"%H:%M:%S\")} '\n",
    "            f'Batch {project.name} has status {project.status.value}.'\n",
    "        )\n",
    "        time.sleep(sleep_time)\n",
    "    print(project.status.value)\n",
    "wait_project_moderation(wtc_project)"
   ]
  },
  {
   "cell_type": "code",
   "execution_count": null,
   "id": "6026ffe3",
   "metadata": {},
   "outputs": [],
   "source": [
    "#create batch\n",
    "wtc_batch_obj = toloka.app.AppBatch(name=app_name+str(random.randint(1,100)))\n",
    "wtc_batch = toloka_client.create_app_batch(app_project_id=wtc_project.id,\n",
    "                             request = wtc_batch_obj)"
   ]
  },
  {
   "cell_type": "code",
   "execution_count": null,
   "id": "e69a3eda",
   "metadata": {},
   "outputs": [],
   "source": [
    "#add tasks\n",
    "new_tasks = [\n",
    "    {\n",
    "        'id': str(row['Ad ID']), \n",
    "        'text': row['text'], \n",
    "        'website_url': row['Link']\n",
    "    }\n",
    "    for _, row in df_direct.iterrows()\n",
    "]\n",
    "\n",
    "toloka_client.create_app_items(\n",
    "    app_project_id=wtc_project.id,\n",
    "    batch_id=wtc_batch.id,\n",
    "    items=new_tasks)"
   ]
  },
  {
   "cell_type": "code",
   "execution_count": null,
   "id": "7c2ece04",
   "metadata": {},
   "outputs": [],
   "source": [
    "#marking start\n",
    "toloka_client.start_app_batch(app_project_id = wtc_project.id,\n",
    "                              app_batch_id = wtc_batch.id)\n",
    "print(\"Marking started. Please wait...\")"
   ]
  },
  {
   "cell_type": "code",
   "execution_count": null,
   "id": "baa776c9",
   "metadata": {},
   "outputs": [],
   "source": [
    "#wait batch\n",
    "def wait_batch_for_close(batch):\n",
    "    sleep_time = 60\n",
    "    while batch.status.value == 'PROCESSING':\n",
    "        print(\n",
    "            f'{datetime.datetime.now().strftime(\"%H:%M:%S\")} '\n",
    "            f'Batch {batch.name} has status {batch.status.value}.'\n",
    "        )\n",
    "        time.sleep(sleep_time)\n",
    "    print(batch.status.value)\n",
    "\n",
    "wait_batch_for_close(wtc_batch)"
   ]
  },
  {
   "cell_type": "code",
   "execution_count": null,
   "id": "99e62b47",
   "metadata": {},
   "outputs": [],
   "source": [
    "#get result\n",
    "result_df = pandas.DataFrame()\n",
    "for item in toloka_client.get_app_items(app_project_id=wtc_project.id):\n",
    "    result_df = result_df.append(pandas.json_normalize(item.output_data), ignore_index=True)\n",
    "    \n",
    "result_df.to_csv('result.tsv', sep='\\t', encoding='utf-8')\n",
    "result_df.sample(3)"
   ]
  }
 ],
 "metadata": {
  "kernelspec": {
   "display_name": "Python 3 (ipykernel)",
   "language": "python",
   "name": "python3"
  },
  "language_info": {
   "codemirror_mode": {
    "name": "ipython",
    "version": 3
   },
   "file_extension": ".py",
   "mimetype": "text/x-python",
   "name": "python",
   "nbconvert_exporter": "python",
   "pygments_lexer": "ipython3",
   "version": "3.8.11"
  }
 },
 "nbformat": 4,
 "nbformat_minor": 5
}
